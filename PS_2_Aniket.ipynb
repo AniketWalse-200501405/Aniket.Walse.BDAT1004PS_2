{
 "cells": [
  {
   "cell_type": "markdown",
   "id": "196da637",
   "metadata": {},
   "source": [
    "### Question 1\n",
    "\n",
    "What value is displayed when the last expression (a) is evaluated? Explain your\n",
    "answer by indicating what happens in every executed statement."
   ]
  },
  {
   "cell_type": "code",
   "execution_count": 1,
   "id": "ec58700a",
   "metadata": {},
   "outputs": [
    {
     "data": {
      "text/plain": [
       "6"
      ]
     },
     "execution_count": 1,
     "metadata": {},
     "output_type": "execute_result"
    }
   ],
   "source": [
    "a = 0\n",
    "def b():\n",
    " global a\n",
    " a = c(a)\n",
    "def c(a):\n",
    " return a + 2\n",
    "\n",
    "b()\n",
    "b()\n",
    "b()\n",
    "a"
   ]
  },
  {
   "cell_type": "markdown",
   "id": "4b1f1965",
   "metadata": {},
   "source": [
    "It displays value 6 : As we have defined the function b() and it will display the value as many times we call the function b() if we call it six times it will display the number 12 ,if we call it 9 times it will display the number 18 and so on. Basically in each interpreter value of 'a' will increase by 2 as it is defined as zero at start. Since the function b is called thrice so the answer is 6. \n"
   ]
  },
  {
   "cell_type": "markdown",
   "id": "e7643c8f",
   "metadata": {},
   "source": [
    "### Question 2\n",
    "\n",
    "Function fileLength(), given to you, takes the name of a file as input and returns\n",
    "the length of the file:\n",
    ">>> fileLength('midterm.py')\n",
    "284\n",
    ">>> fileLength('idterm.py')\n",
    "Traceback (most recent call last):\n",
    "File \"<pyshell#34>\", line 1, in <module>\n",
    " fileLength('idterm.py')\n",
    "File \"/Users/me/midterm.py\", line 3, in fileLength\n",
    " infile = open(filename)\n",
    "FileNotFoundError: [Errno 2] No such file or directory:\n",
    "'idterm.py'\n",
    "As shown above, if the file cannot be found by the interpreter or if it cannot be read\n",
    "as a text file, an exception will be raised. Modify function fileLength() so that a\n",
    "friendly message is printed instead:\n",
    ">>> fileLength('midterm.py')\n",
    "358\n",
    ">>> fileLength('idterm.py')\n",
    "File idterm.py not found."
   ]
  },
  {
   "cell_type": "code",
   "execution_count": 2,
   "id": "5b5a1506",
   "metadata": {},
   "outputs": [
    {
     "name": "stdout",
     "output_type": "stream",
     "text": [
      "358\n",
      "File idterm.py not found.\n"
     ]
    }
   ],
   "source": [
    "def fileLength(file_name):\n",
    "    try:\n",
    "        file = open(file_name)\n",
    "        contents = file.read()\n",
    "        file.close()\n",
    "        print(len(contents))\n",
    "    except FileNotFoundError:\n",
    "        print(\"File {} not found.\".format(file_name))\n",
    "        \n",
    "\n",
    "fileLength(\"midterm.py\")\n",
    "fileLength(\"idterm.py\")"
   ]
  },
  {
   "cell_type": "markdown",
   "id": "fa078b84",
   "metadata": {},
   "source": [
    "### Question 3\n",
    "Write a class named Marsupial that can be used as shown below:\n",
    ">>> m = Marsupial()\n",
    ">>> m.put_in_pouch('doll')\n",
    ">>> m.put_in_pouch('firetruck')\n",
    ">>> m.put_in_pouch('kitten')\n",
    ">>> m.pouch_contents()\n",
    "['doll', 'firetruck', 'kitten']\n",
    "Now write a class named Kangaroo as a subclass of Marsupial that inherits all the\n",
    "attributes of Marsupial and also:\n",
    "a. extends the Marsupial __init__ constructor to take, as input, the\n",
    "coordinates x and y of the Kangaroo object,\n",
    "b. supports method jump that takes number values dx and dy as input and\n",
    "moves the kangaroo by dx units along the x-axis and by dy units along the yaxis, and\n",
    "c. overloads the __str__ operator so it behaves as shown below.\n",
    ">>> k = Kangaroo(0,0)\n",
    ">>> print(k)\n",
    "I am a Kangaroo located at coordinates (0,0)\n",
    ">>> k.put_in_pouch('doll')\n",
    ">>> k.put_in_pouch('firetruck')\n",
    ">>> k.put_in_pouch('kitten')\n",
    ">>> k.pouch_contents()\n",
    "['doll', 'firetruck', 'kitten']\n",
    ">>> k.jump(1,0)\n",
    ">>> k.jump(1,0)\n",
    ">>> k.jump(1,0)\n",
    ">>> print(k)\n",
    "I am a Kangaroo located at coordinates (3,0)"
   ]
  },
  {
   "cell_type": "code",
   "execution_count": 3,
   "id": "6a210886",
   "metadata": {},
   "outputs": [
    {
     "name": "stdout",
     "output_type": "stream",
     "text": [
      "['doll', 'firetruck', 'kitten']\n"
     ]
    }
   ],
   "source": [
    "class marsupial:\n",
    "    \n",
    "    def __init__(self):\n",
    "            self.list = []\n",
    "            \n",
    "    def put_in_pouch(self,a):\n",
    "            self.list.append(a)\n",
    "    def pouch_contents(self):\n",
    "            return print(self.list)\n",
    "        \n",
    "m = marsupial()\n",
    "m.put_in_pouch('doll')\n",
    "m.put_in_pouch('firetruck')\n",
    "m.put_in_pouch('kitten')\n",
    "m.pouch_contents()"
   ]
  },
  {
   "cell_type": "code",
   "execution_count": 4,
   "id": "694bf33a",
   "metadata": {},
   "outputs": [],
   "source": [
    "class Kangaroo(marsupial):\n",
    "    \n",
    "    def __init__(self, x, y):\n",
    "        super(Kangaroo, self).__init__()\n",
    "        self.x = x\n",
    "        self.y = y\n",
    "    \n",
    "    def jump(self, dx, dy):\n",
    "        self.x += dx\n",
    "        self.y += dy\n",
    "        \n",
    "    def __str__(self):\n",
    "        return \"I am a Kangaroo located at coordinates ({},{})\".format(self.x, self.y)       "
   ]
  },
  {
   "cell_type": "code",
   "execution_count": 5,
   "id": "dd95abe1",
   "metadata": {},
   "outputs": [
    {
     "name": "stdout",
     "output_type": "stream",
     "text": [
      "I am a Kangaroo located at coordinates (0,0)\n"
     ]
    }
   ],
   "source": [
    "k = Kangaroo(0, 0)\n",
    "print(k)"
   ]
  },
  {
   "cell_type": "code",
   "execution_count": 6,
   "id": "0127422a",
   "metadata": {},
   "outputs": [
    {
     "name": "stdout",
     "output_type": "stream",
     "text": [
      "['doll', 'firetruck', 'kitten']\n"
     ]
    }
   ],
   "source": [
    "k.put_in_pouch('doll')\n",
    "k.put_in_pouch('firetruck') \n",
    "k.put_in_pouch('kitten')\n",
    "k.pouch_contents()"
   ]
  },
  {
   "cell_type": "code",
   "execution_count": 7,
   "id": "f5a857d7",
   "metadata": {},
   "outputs": [
    {
     "name": "stdout",
     "output_type": "stream",
     "text": [
      "I am a Kangaroo located at coordinates (3,0)\n"
     ]
    }
   ],
   "source": [
    "k.jump(1, 0)\n",
    "k.jump(1, 0)\n",
    "k.jump(1, 0)\n",
    "print(k)"
   ]
  },
  {
   "cell_type": "markdown",
   "id": "e9063c3b",
   "metadata": {},
   "source": [
    "### Question 4\n",
    "Write function collatz() that takes a positive integer x as input and prints the\n",
    "Collatz sequence starting at x. A Collatz sequence is obtained by repeatedly applying\n",
    "this rule to the previous number x in the sequence:\n",
    "x = {\n",
    "𝑥/2 𝑖𝑓 𝑥 𝑖𝑠 𝑒𝑣𝑒𝑛\n",
    "3𝑥 + 1 𝑖𝑓 𝑥 𝑖𝑠 𝑜𝑑𝑑\n",
    "Your function should stop when the sequence gets to number 1. Your\n",
    "implementation must be recursive, without any loops."
   ]
  },
  {
   "cell_type": "code",
   "execution_count": 8,
   "id": "bc38814e",
   "metadata": {},
   "outputs": [
    {
     "name": "stdout",
     "output_type": "stream",
     "text": [
      "1\n",
      "10\n",
      "5\n",
      "16\n",
      "8\n",
      "4\n",
      "2\n",
      "1\n"
     ]
    }
   ],
   "source": [
    "def collatz(k):\n",
    "    print(k)\n",
    "    if (k > 1 and k%2 == 0):\n",
    "        a = k/2\n",
    "        \n",
    "        result = collatz(int(a))\n",
    "    elif (k > 1 and k%2 != 0):  \n",
    "        a = 3 * k + 1\n",
    "        \n",
    "        result = collatz(int(a))\n",
    "    else:\n",
    "        result = 0\n",
    "    return result     \n",
    "     \n",
    "    \n",
    "collatz(1);\n",
    "collatz(10);"
   ]
  },
  {
   "cell_type": "markdown",
   "id": "b7dadf68",
   "metadata": {},
   "source": [
    "### Question 5\n",
    "Write a recursive method binary() that takes a non-negative\n",
    "integer n and prints the binary representation of integer n.\n",
    ">>> binary(0)\n",
    "0\n",
    ">>> binary(1)\n",
    "1\n",
    ">>> binary(3)\n",
    "11\n",
    ">>> binary(9)\n",
    "1001\n"
   ]
  },
  {
   "cell_type": "code",
   "execution_count": 9,
   "id": "788da7f5",
   "metadata": {},
   "outputs": [
    {
     "data": {
      "text/plain": [
       "1001"
      ]
     },
     "execution_count": 9,
     "metadata": {},
     "output_type": "execute_result"
    }
   ],
   "source": [
    "def binary(a):\n",
    "    if a == 0:\n",
    "        return 0\n",
    "    else:\n",
    "        return (a % 2 + 10 *\n",
    "                binary(int(a // 2)))\n",
    " \n",
    "\n",
    "binary(9)\n"
   ]
  },
  {
   "cell_type": "markdown",
   "id": "06cf1c5a",
   "metadata": {},
   "source": [
    "### Question 6\n",
    "Implement a class named HeadingParser that can be used to parse an HTML\n",
    "document, and retrieve and print all the headings in the document. You should\n",
    "implement your class as a subclass of HTMLParser, defined in Standard Library\n",
    "module html.parser. When fed a string containing HTML code, your class should\n",
    "print the headings, one per line and in the order in which they appear in the\n",
    "document. Each heading should be indented as follows: an h1 heading should have indentation 0, and h2 heading should have indentation 1, etc. Test your\n",
    "implementation using w3c.html.\n",
    ">>> infile = open('w3c.html')\n",
    ">>> content = infile.read()\n",
    ">>> infile.close()\n",
    ">>> hp = HeadingParser()\n",
    ">>> hp.feed(content)\n",
    "W3C Mission\n",
    "Principles"
   ]
  },
  {
   "cell_type": "code",
   "execution_count": 10,
   "id": "0eb443bf",
   "metadata": {},
   "outputs": [
    {
     "name": "stdout",
     "output_type": "stream",
     "text": [
      "W3C Mission\n",
      "  Principles\n"
     ]
    }
   ],
   "source": [
    "from html.parser import HTMLParser\n",
    "\n",
    "class HeadingParser(HTMLParser):\n",
    "    is_h1_tag = False\n",
    "    is_h2_tag = False\n",
    "    \n",
    "    def handle_starttag(self, tag, attrs):\n",
    "        if tag == 'h1':\n",
    "            self.is_h1_tag = True\n",
    "        if tag == 'h2':\n",
    "            self.is_h2_tag = True\n",
    "\n",
    "    def handle_data(self, data):\n",
    "        if self.is_h1_tag:\n",
    "            print(data)\n",
    "        if self.is_h2_tag:\n",
    "            print(\" \", data)\n",
    "\n",
    "    def handle_endtag(self, tag):\n",
    "        if tag == 'h1':\n",
    "            self.is_h1_tag = False\n",
    "        if tag == 'h2':\n",
    "            self.is_h2_tag = False\n",
    "\n",
    "\n",
    "\n",
    "infile = open(r\"F:\\Georgian_BDAT\\BDAT_2023\\BDAT_1004_Data_Programming\\Assignment\\w3c.txt\")\n",
    "content = infile.read()\n",
    "infile.close()\n",
    "hp = HeadingParser()\n",
    "hp.feed(content)\n"
   ]
  },
  {
   "cell_type": "markdown",
   "id": "1b6987ad",
   "metadata": {},
   "source": [
    "### Question 7\n",
    "Implement recursive function webdir() that takes as input: a URL (as a string) and\n",
    "non-negative integers depth and indent. Your function should visit every web\n",
    "page reachable from the starting URL web page in depth clicks or less, and print\n",
    "each web page's URL. As shown below, indentation, specified by indent, should\n",
    "be used to indicate the depth of a URL.\n",
    ">>>\n",
    "webdir('http://reed.cs.depaul.edu/lperkovic/csc242/test1.html'\n",
    ", 2, 0)\n",
    "http://reed.cs.depaul.edu/lperkovic/csc242/test1.html\n",
    " http://reed.cs.depaul.edu/lperkovic/csc242/test2.html\n",
    " http://reed.cs.depaul.edu/lperkovic/csc242/test4.html\n",
    " http://reed.cs.depaul.edu/lperkovic/csc242/test3.html\n",
    " http://reed.cs.depaul.edu/lperkovic/csc242/test4.html"
   ]
  },
  {
   "cell_type": "code",
   "execution_count": 11,
   "id": "d254939a",
   "metadata": {},
   "outputs": [
    {
     "name": "stdout",
     "output_type": "stream",
     "text": [
      " https://gohugo.io/\n",
      "  https://gohugo.io/\n",
      "  https://themes.gohugo.io/\n",
      "  https://discourse.gohugo.io/\n",
      "  https://github.com/gohugoio/hugo\n",
      "  https://twitter.com/intent/follow?screen_name=GoHugoIO\n",
      "  https://github.com/gohugoio/hugo\n",
      "  https://www.linode.com/?utm_campaign=hugosponsor&utm_medium=banner&utm_source=hugohome\n",
      "  https://buttercms.com/hugo-cms/?utm_campaign=sponsorship&utm_medium=banner&utm_source=hugohome\n",
      "  https://www.gravitykit.com/?ref=532&campaign=hugo&utm_campaign=hugosponsor&utm_medium=banner&utm_source=hugohome\n",
      "  https://themes.gohugo.io/\n",
      "  https://gohugo.io/templates/\n",
      "  https://gohugo.io/getting-started/installing/\n",
      "  https://twitter.com/heinrichhartman/status/1199736512264462341\n",
      "  https://twitter.com/gohugoio\n",
      "  https://twitter.com/jscarto/status/1039648827815485440\n",
      "  https://gohugo.io\n",
      "  https://twitter.com/gohugoio\n",
      "  https://twitter.com/spcrngr_/status/870863020905435136\n",
      "  https://twitter.com/WordPress\n",
      "  https://twitter.com/GoHugoIO\n",
      "  https://twitter.com/hashtag/gohugo?src=hash\n",
      "  https://twitter.com/marcoscan/status/869661175960752129\n",
      "  https://github.com/gohugoio/hugo/blob/master/CONTRIBUTING.md\n",
      "  https://themes.gohugo.io/\n",
      "  https://gohugo.io/overview/introduction/\n",
      "  https://discourse.gohugo.io/\n",
      "  https://github.com/gohugoio/hugo/graphs/contributors\n",
      "  https://github.com/gohugoio/hugo/issues/new\n",
      "  https://discourse.gohugo.io/\n",
      "  https://gitter.im/spf13/hugo\n",
      "  https://twitter.com/gohugoio\n",
      "  https://twitter.com/spf13\n",
      "  https://twitter.com/bepsays\n",
      "  https://www.netlify.com\n",
      "  https://www.linode.com/?utm_campaign=hugosponsor&utm_medium=banner&utm_source=hugofooter\n",
      "  https://buttercms.com/hugo-cms/?utm_campaign=sponsorship&utm_medium=banner&utm_source=hugofooter\n",
      "  https://www.gravitykit.com/?ref=532&campaign=hugo&utm_campaign=hugosponsor&utm_medium=banner&utm_source=hugofooter\n",
      "  https://themes.gohugo.io/\n",
      "  https://discourse.gohugo.io/\n",
      "  https://github.com/gohugoio/hugo\n"
     ]
    }
   ],
   "source": [
    "import requests\n",
    "from bs4 import BeautifulSoup\n",
    "import re\n",
    "\n",
    "temp = 0\n",
    "def webdir(url, depth, indent):\n",
    "    global temp\n",
    "    indent_sp = ' ' * (indent + 1)\n",
    "    \n",
    "    if depth == 0:\n",
    "       return None\n",
    "\n",
    "    response = requests.get(url)\n",
    "    html = response.content                     \n",
    "    soup = BeautifulSoup(html, 'html.parser')\n",
    "\n",
    "    links = soup.body.findAll(\"a\", href=re.compile(\"http\"))\n",
    "\n",
    "    print(indent_sp * (temp - depth), url)\n",
    "    if temp <= depth:\n",
    "        temp = depth\n",
    "    for link in links:\n",
    "        if 'https' in link['href']:\n",
    "            webdir(link['href'], depth - 1, indent)\n",
    "\n",
    "url = \"https://gohugo.io/\"\n",
    "webdir(url, 2, 0)"
   ]
  },
  {
   "cell_type": "markdown",
   "id": "b31a1c40",
   "metadata": {},
   "source": [
    "### Question 8\n",
    "Write SQL queries on the below database table that return:\n",
    "\n",
    "* All the temperature data.\n",
    "* All the cities, but without repetition.\n",
    "* All the records for India.\n",
    "* All the Fall records.\n",
    "* The city, country, and season for which the average rainfall is between 200 and 400 millimeters.\n",
    "* The city and country for which the average Fall temperature is above 20 degrees, in increasing temperature order.\n",
    "* The total annual rainfall for Cairo.\n",
    "* The total rainfall for each season."
   ]
  },
  {
   "cell_type": "code",
   "execution_count": 12,
   "id": "26506b2e",
   "metadata": {},
   "outputs": [],
   "source": [
    "import sqlite3\n",
    "con = sqlite3.connect('seasons_db')\n",
    "cur = con.cursor()\n",
    "cur.execute(\"CREATE TABLE season (City text, Country text, Season text, Temperature C dec, Rainfall mm dec)\")\n",
    "cur.execute(\"INSERT INTO season VALUES ('Mumbai', 'India', 'Winter', 24.8, 5.9)\")\n",
    "cur.execute(\"INSERT INTO season VALUES ('Mumbai', 'India', 'Spring', 28.4, 16.2)\")\n",
    "cur.execute(\"INSERT INTO season VALUES ('Mumbai', 'India', 'Summer', 27.9, 1549.4)\")\n",
    "cur.execute(\"INSERT INTO season VALUES ('Mumbai', 'India', 'Fall', 27.6, 346.0)\")\n",
    "cur.execute(\"INSERT INTO season VALUES ('London', 'United Kingdom', 'Winter', 4.2, 207.7)\")\n",
    "cur.execute(\"INSERT INTO season VALUES ('London', 'United Kingdom', 'Spring', 8.3, 169.6)\")\n",
    "cur.execute(\"INSERT INTO season VALUES ('London', 'United Kingdom', 'Summer', 15.7, 157.0)\")\n",
    "cur.execute(\"INSERT INTO season VALUES ('London', 'United Kingdom', 'Fall', 10.4, 218.5)\")\n",
    "cur.execute(\"INSERT INTO season VALUES ('Cairo', 'Egypt', 'Winter', 13.6, 16.5)\")\n",
    "cur.execute(\"INSERT INTO season VALUES ('Cairo', 'Egypt', 'Spring', 20.7, 6.5)\")\n",
    "cur.execute(\"INSERT INTO season VALUES ('Cairo', 'Egypt', 'Summer', 27.7, 0.1)\")\n",
    "cur.execute(\"INSERT INTO season VALUES ('Cairo', 'Egypt', 'Fall', 22.2, 4.5)\")\n",
    "con.commit()\n",
    "con.close()"
   ]
  },
  {
   "cell_type": "code",
   "execution_count": 13,
   "id": "905166cb",
   "metadata": {},
   "outputs": [
    {
     "name": "stdout",
     "output_type": "stream",
     "text": [
      "(24.8,)\n",
      "(28.4,)\n",
      "(27.9,)\n",
      "(27.6,)\n",
      "(4.2,)\n",
      "(8.3,)\n",
      "(15.7,)\n",
      "(10.4,)\n",
      "(13.6,)\n",
      "(20.7,)\n",
      "(27.7,)\n",
      "(22.2,)\n"
     ]
    }
   ],
   "source": [
    "import sqlite3\n",
    "con = sqlite3.connect('seasons_db')\n",
    "cur = con.cursor()\n",
    "cur.execute('SELECT Temperature FROM weather')\n",
    "for record in cur:\n",
    "    print(record)"
   ]
  },
  {
   "cell_type": "code",
   "execution_count": 14,
   "id": "06535086",
   "metadata": {},
   "outputs": [
    {
     "name": "stdout",
     "output_type": "stream",
     "text": [
      "('Mumbai',)\n",
      "('London',)\n",
      "('Cairo',)\n"
     ]
    }
   ],
   "source": [
    "cur.execute('SELECT DISTINCT City FROM weather')\n",
    "for record in cur:\n",
    "    print(record)"
   ]
  },
  {
   "cell_type": "code",
   "execution_count": 15,
   "id": "020ca01e",
   "metadata": {},
   "outputs": [
    {
     "name": "stdout",
     "output_type": "stream",
     "text": [
      "('Mumbai', 'India', 'Winter', 24.8, 5.9)\n",
      "('Mumbai', 'India', 'Spring', 28.4, 16.2)\n",
      "('Mumbai', 'India', 'Summer', 27.9, 1549.4)\n",
      "('Mumbai', 'India', 'Fall', 27.6, 346)\n"
     ]
    }
   ],
   "source": [
    "cur.execute('SELECT * FROM weather where Country=\"India\"')\n",
    "for record in cur:\n",
    "    print(record)"
   ]
  },
  {
   "cell_type": "code",
   "execution_count": 16,
   "id": "23f7152d",
   "metadata": {},
   "outputs": [
    {
     "name": "stdout",
     "output_type": "stream",
     "text": [
      "('Mumbai', 'India', 'Fall', 27.6, 346)\n",
      "('London', 'United Kingdom', 'Fall', 10.4, 218.5)\n",
      "('Cairo', 'Egypt', 'Fall', 22.2, 4.5)\n"
     ]
    }
   ],
   "source": [
    "cur.execute('SELECT * FROM weather where Season=\"Fall\"')\n",
    "for record in cur:\n",
    "    print(record)"
   ]
  },
  {
   "cell_type": "code",
   "execution_count": 17,
   "id": "41106db9",
   "metadata": {},
   "outputs": [
    {
     "name": "stdout",
     "output_type": "stream",
     "text": [
      "('Mumbai', 'India', 'Fall')\n",
      "('London', 'United Kingdom', 'Winter')\n",
      "('London', 'United Kingdom', 'Fall')\n"
     ]
    }
   ],
   "source": [
    "cur.execute('SELECT City,Country,Season FROM weather where (rainfall>200) AND (rainfall<400)')\n",
    "for record in cur:\n",
    "    print(record)"
   ]
  },
  {
   "cell_type": "code",
   "execution_count": 18,
   "id": "7263bd18",
   "metadata": {},
   "outputs": [
    {
     "name": "stdout",
     "output_type": "stream",
     "text": [
      "('Mumbai', 'India')\n",
      "('Cairo', 'Egypt')\n"
     ]
    }
   ],
   "source": [
    "cur.execute('SELECT City,Country FROM weather where (Season =\"Fall\") AND (temperature>20) ORDER BY Temperature DESC')\n",
    "for record in cur:\n",
    "    print(record)"
   ]
  },
  {
   "cell_type": "code",
   "execution_count": 19,
   "id": "879639f6",
   "metadata": {},
   "outputs": [
    {
     "name": "stdout",
     "output_type": "stream",
     "text": [
      "[(27.6,)]\n"
     ]
    }
   ],
   "source": [
    "cur.execute('SELECT SUM(Rainfall) FROM weather where City=\"Cairo\"')\n",
    "Annual_rainfall_in_Cairo=cur.fetchall()\n",
    "print(Annual_rainfall_in_Cairo)"
   ]
  },
  {
   "cell_type": "code",
   "execution_count": 20,
   "id": "088ae97f",
   "metadata": {},
   "outputs": [
    {
     "name": "stdout",
     "output_type": "stream",
     "text": [
      "(569.0, 'Fall')\n",
      "(192.29999999999998, 'Spring')\n",
      "(1706.5, 'Summer')\n",
      "(230.1, 'Winter')\n"
     ]
    }
   ],
   "source": [
    "cur.execute('SELECT SUM(Rainfall),Season FROM weather GROUP BY Season')\n",
    "for record in cur:print(record)"
   ]
  },
  {
   "cell_type": "markdown",
   "id": "2533c51d",
   "metadata": {},
   "source": [
    "### Question 9\n",
    ". Suppose list words is defined as follows:\n",
    ">>> words = ['The', 'quick', 'brown', 'fox', 'jumps', 'over',\n",
    "'the', 'lazy', 'dog']\n",
    "Write list comprehension expressions that use list words and generate the following\n",
    "lists:\n",
    "a) ['THE', 'QUICK', 'BROWN', 'FOX', 'JUMPS', 'OVER', 'THE',\n",
    "'LAZY', 'DOG']\n",
    "b) ['the', 'quick', 'brown', 'fox', 'jumps', 'over', 'the',\n",
    "'lazy', 'dog']\n",
    "c) [3, 5, 5, 3, 5, 4, 3, 4, 3] (the list of lengths of words in list\n",
    "words).\n",
    "d) [['THE', 'the', 3], ['QUICK', 'quick', 5], ['BROWN',\n",
    "'brown', 5], ['FOX', 'fox', 3], ['JUMPS', 'jumps', 5],\n",
    "['OVER', 'over', 4], ['THE', 'the', 3], ['LAZY', 'lazy',\n",
    "4], ['DOG', 'dog', 3]] (the list containing a list for every word of list\n",
    "words, where each list contains the word in uppercase and lowercase and the\n",
    "length of the word.)\n",
    "e) ['The', 'quick', 'brown', 'fox', 'jumps', 'over', 'the',\n",
    "'lazy', 'dog'] (the list of words in list words containing 4 or more\n",
    "characters.)"
   ]
  },
  {
   "cell_type": "code",
   "execution_count": 21,
   "id": "660f8354",
   "metadata": {},
   "outputs": [
    {
     "name": "stdout",
     "output_type": "stream",
     "text": [
      "['THE', 'QUICK', 'BROWN', 'FOX', 'JUMPS', 'OVER', 'THE', 'LAZY', 'DOG']\n"
     ]
    }
   ],
   "source": [
    "words = ['The', 'quick', 'brown', 'fox', 'jumps', 'over','the', 'lazy', 'dog']\n",
    "for i in range(len(words)):\n",
    "    words[i] = words[i].upper()\n",
    "print (words)"
   ]
  },
  {
   "cell_type": "code",
   "execution_count": 22,
   "id": "87adade8",
   "metadata": {},
   "outputs": [
    {
     "name": "stdout",
     "output_type": "stream",
     "text": [
      "['the', 'quick', 'brown', 'fox', 'jumps', 'over', 'the', 'lazy', 'dog']\n"
     ]
    }
   ],
   "source": [
    "words = ['The', 'quick', 'brown', 'fox', 'jumps', 'over','the', 'lazy', 'dog']\n",
    "for i in range(len(words)):\n",
    "    words[i] = words[i].lower()\n",
    "print (words)"
   ]
  },
  {
   "cell_type": "code",
   "execution_count": 23,
   "id": "3acd3637",
   "metadata": {},
   "outputs": [
    {
     "name": "stdout",
     "output_type": "stream",
     "text": [
      "[3, 5, 5, 3, 5, 4, 3, 4, 3]\n"
     ]
    }
   ],
   "source": [
    "words = ['The', 'quick', 'brown', 'fox', 'jumps', 'over','the', 'lazy','dog']\n",
    "result = []\n",
    "for i in range(len(words)):\n",
    "    result.append(len(words[i]))\n",
    "print (result)"
   ]
  },
  {
   "cell_type": "code",
   "execution_count": 24,
   "id": "e67baeeb",
   "metadata": {},
   "outputs": [
    {
     "name": "stdout",
     "output_type": "stream",
     "text": [
      "[['THE', 'the', 3], ['QUICK', 'quick', 5], ['BROWN', 'brown', 5], ['FOX', 'fox', 3], ['JUMPS', 'jumps', 5], ['OVER', 'over', 4], ['THE', 'the', 3], ['LAZY', 'lazy', 4], ['DOG', 'dog', 3]]\n"
     ]
    }
   ],
   "source": [
    "words = ['The', 'quick', 'brown', 'fox', 'jumps', 'over','the', 'lazy','dog']\n",
    "result = []\n",
    "for i in range(len(words)):\n",
    "    result.append([words[i].upper(),words[i].lower(),len(words[i])])\n",
    "print (result)"
   ]
  },
  {
   "cell_type": "code",
   "execution_count": 25,
   "id": "67e28bce",
   "metadata": {},
   "outputs": [
    {
     "name": "stdout",
     "output_type": "stream",
     "text": [
      "['The', 'quick', 'brown', 'fox', 'jumps', 'over', 'the', 'lazy', 'dog']\n"
     ]
    }
   ],
   "source": [
    "words = ['The', 'quick', 'brown', 'fox', 'jumps', 'over', 'the', 'lazy', 'dog']\n",
    "length_words = len(words)\n",
    "if length_words >= 4:\n",
    "    print(words)"
   ]
  },
  {
   "cell_type": "code",
   "execution_count": null,
   "id": "3e6e2112",
   "metadata": {},
   "outputs": [],
   "source": []
  },
  {
   "cell_type": "code",
   "execution_count": null,
   "id": "35da6ada",
   "metadata": {},
   "outputs": [],
   "source": []
  }
 ],
 "metadata": {
  "kernelspec": {
   "display_name": "Python 3 (ipykernel)",
   "language": "python",
   "name": "python3"
  },
  "language_info": {
   "codemirror_mode": {
    "name": "ipython",
    "version": 3
   },
   "file_extension": ".py",
   "mimetype": "text/x-python",
   "name": "python",
   "nbconvert_exporter": "python",
   "pygments_lexer": "ipython3",
   "version": "3.8.12"
  }
 },
 "nbformat": 4,
 "nbformat_minor": 5
}
